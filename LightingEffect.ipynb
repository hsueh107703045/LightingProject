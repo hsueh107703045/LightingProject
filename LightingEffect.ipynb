{
 "cells": [
  {
   "cell_type": "code",
   "execution_count": 73,
   "metadata": {},
   "outputs": [
    {
     "data": {
      "text/plain": [
       "True"
      ]
     },
     "execution_count": 73,
     "metadata": {},
     "output_type": "execute_result"
    }
   ],
   "source": [
    "import cv2\n",
    "import numpy as np\n",
    "import math\n",
    "\n",
    "source = 'girl'\n",
    "\n",
    "img = cv2.imread('./images/normalize_'+source+'.png')\n",
    "\n",
    "#density = cv2.imread('./images/DistanceFromMean.png')\n",
    "\n",
    "'''\n",
    "if img.shape != density.shape:\n",
    "    print(\"* * * two images have different shape:\\n\", \"image: \", img.shape)\n",
    "    print(\"density map: \", density.shape)\n",
    "'''\n",
    "\n",
    "height = img.shape[0]\n",
    "width = img.shape[1]\n",
    "\n",
    "\n",
    "kernel_right = np.array([[  1,  0, -1], \n",
    "                         [  2,  0, -2], \n",
    "                         [  1,  0, -1]])\n",
    "\n",
    "kernel_top = np.array([[ -1, -2, -1], \n",
    "                       [  0,  0,  0], \n",
    "                       [  1,  2,  1]])\n",
    "\n",
    "kernel_left = np.array([[ -1,  0,  1], \n",
    "                        [ -2,  0,  2], \n",
    "                        [ -1,  0,  1]])\n",
    "\n",
    "kernel_down = np.array([[  1,  2,  1], \n",
    "                        [  0,  0,  0], \n",
    "                        [ -1, -2, -1]])\n",
    "\n",
    "#right\n",
    "conv_right_1 = cv2.filter2D(src=img, ddepth=-1, kernel=kernel_right)\n",
    "conv_right_8 = cv2.resize(cv2.filter2D(src=cv2.resize(img, (width//8, height//8), interpolation=cv2.INTER_AREA), ddepth=-1, kernel=kernel_right), (width,height), interpolation=cv2.INTER_CUBIC) \n",
    "conv_right_8 //= 10\n",
    "conv_right = cv2.add(conv_right_1, conv_right_8)\n",
    "\n",
    "#top\n",
    "conv_top_1 = cv2.filter2D(src=img, ddepth=-1, kernel=kernel_top)\n",
    "conv_top_8 = cv2.resize(cv2.filter2D(src=cv2.resize(img, (width//8, height//8), interpolation=cv2.INTER_AREA), ddepth=-1, kernel=kernel_top), (width,height), interpolation=cv2.INTER_CUBIC) \n",
    "conv_top_8 //= 10\n",
    "conv_top = cv2.add(conv_top_1, conv_top_8)\n",
    "\n",
    "#left\n",
    "conv_left_1 = cv2.filter2D(src=img, ddepth=-1, kernel=kernel_left)\n",
    "conv_left_8 = cv2.resize(cv2.filter2D(src=cv2.resize(img, (width//8, height//8), interpolation=cv2.INTER_AREA), ddepth=-1, kernel=kernel_left), (width,height), interpolation=cv2.INTER_CUBIC) \n",
    "conv_left_8 //= 10\n",
    "conv_left = cv2.add(conv_left_1, conv_left_8)\n",
    "\n",
    "#down\n",
    "conv_down_1 = cv2.filter2D(src=img, ddepth=-1, kernel=kernel_down)\n",
    "conv_down_8 = cv2.resize(cv2.filter2D(src=cv2.resize(img, (width//8, height//8), interpolation=cv2.INTER_AREA), ddepth=-1, kernel=kernel_down), (width,height), interpolation=cv2.INTER_CUBIC) \n",
    "conv_down_8 //= 10\n",
    "conv_down = cv2.add(conv_down_1, conv_down_8)\n",
    "\n",
    "\n",
    "\n",
    "# eliminate high frequency noise\n",
    "blur_size = 21\n",
    "conv_right = cv2.GaussianBlur(conv_right, (blur_size, blur_size),0)\n",
    "conv_top = cv2.GaussianBlur(conv_top, (blur_size, blur_size),0)\n",
    "conv_left = cv2.GaussianBlur(conv_left, (blur_size, blur_size),0)\n",
    "conv_down = cv2.GaussianBlur(conv_down, (blur_size, blur_size),0)\n",
    "\n",
    "\n",
    "cv2.imwrite('conv_right.png', conv_right)\n",
    "cv2.imwrite('conv_top.png', conv_top)\n",
    "cv2.imwrite('conv_left.png', conv_left)\n",
    "cv2.imwrite('conv_down.png', conv_down)\n",
    "\n",
    "\n",
    "\n"
   ]
  },
  {
   "cell_type": "code",
   "execution_count": 91,
   "metadata": {},
   "outputs": [
    {
     "data": {
      "text/plain": [
       "'\\nlightMap += cv2.GaussianBlur(lightMap,(101,101),0)*1\\nlightMap += cv2.GaussianBlur(lightMap,(201,201),0)*1\\nlightMap += cv2.GaussianBlur(lightMap,(401,401),0)*1\\n'"
      ]
     },
     "execution_count": 91,
     "metadata": {},
     "output_type": "execute_result"
    }
   ],
   "source": [
    "# combine 4 conv_out to get coarse light map\n",
    "conv_right = cv2.imread('conv_right.png')\n",
    "conv_top = cv2.imread('conv_top.png')\n",
    "conv_left = cv2.imread('conv_left.png')\n",
    "conv_down = cv2.imread('conv_down.png')\n",
    "\n",
    "density = cv2.imread('./images/stroke_density_'+source+'.png')\n",
    "density = cv2.imread('./images/cheat.png')\n",
    "#density = cv2.imread('./images/'+source+'.png')\n",
    "density = cv2.GaussianBlur(density, (3, 3),0)\n",
    "\n",
    "original = cv2.imread('./images/'+source+'.png')\n",
    "#mask = cv2.imread('./images/blind_mask.png')\n",
    "\n",
    "# light\n",
    "light_angle = 45+90# start from right side, clockwise\n",
    "light_hue = 44   # 0~360\n",
    "light_saturation = 200\n",
    "\n",
    "\n",
    "light_direction = (light_angle/360) * 2*(math.pi)  # 0 ~ 2PI\n",
    "#effectMap = conv_top * round((math.sin(light_direction))) + conv_right * round((math.cos(light_direction))) + (-1)*conv_down * (math.sin(light_direction)) + (-1)*conv_left * (math.cos(light_direction))\n",
    "#lightMap = np.zeros_like(original)  # uint8\n",
    "#lightMap = np.clip(effectMap.astype(np.uint8), 0, 255)\n",
    "#shadowMap = np.clip(effectMap, -255, 0)\n",
    "\n",
    "if light_angle%360 < 90:\n",
    "    lightMap = conv_right * round(math.cos(light_direction)) + conv_top * round(math.sin(light_direction))\n",
    "    shadowMap = conv_left * round(math.cos(light_direction)) + conv_down * round(math.sin(light_direction))\n",
    "    \n",
    "elif light_angle%360 < 180:\n",
    "    lightMap = conv_top * round(math.cos(light_direction-math.pi/2)) + conv_left * round(math.sin(light_direction-math.pi/2))\n",
    "    shadowMap = conv_down * round(math.cos(light_direction-math.pi/2)) + conv_right * round(math.sin(light_direction-math.pi/2))\n",
    "    \n",
    "elif light_angle%360 < 270:\n",
    "    lightMap = conv_left * round(math.cos(light_direction-math.pi)) + conv_down * round(math.sin(light_direction-math.pi))\n",
    "    shadowMap = conv_right * round(math.cos(light_direction-math.pi)) + conv_top * round(math.sin(light_direction-math.pi))\n",
    "\n",
    "else:\n",
    "    lightMap = conv_down * round(math.cos(light_direction-math.pi/2*3)) + conv_right * round(math.sin(light_direction-math.pi/2*3))\n",
    "    shadowMap = conv_top * round(math.cos(light_direction-math.pi/2*3)) + conv_left * round(math.sin(light_direction-math.pi/2*3))\n",
    "\n",
    "    \n",
    "#lightMap = max(0, sign_1) * conv_right * round(math.cos(light_direction)) + max(0, sign_2) * conv_top * round(math.sin(light_direction)) + max(0, sign_1) * (-1) * conv_left * round(math.sin(light_direction)) + max(0, sign_2) * (-1) * conv_down * round(math.cos(light_direction))\n",
    "\n",
    "\n",
    "hsv_lightMap = cv2.cvtColor(lightMap, cv2.COLOR_BGR2HSV)\n",
    "hsv_lightMap[:,:,0] = light_hue // 2  # HSV in opencv, hue range is [0,179]\n",
    "hsv_lightMap[:,:,1] = np.clip(hsv_lightMap[:,:,1], light_saturation, a_max=255)\n",
    "#hsv_lightMap[:,:,2] = 0\n",
    "lightMap = cv2.cvtColor(hsv_lightMap, cv2.COLOR_HSV2BGR)\n",
    "\n",
    "\n",
    "hsv_shadowMap = cv2.cvtColor(shadowMap, cv2.COLOR_BGR2HSV)\n",
    "#hsv_lightMap[:,:,0]\n",
    "hsv_shadowMap[:,:,1] = 0\n",
    "shadowMap = cv2.cvtColor(hsv_shadowMap, cv2.COLOR_HSV2BGR)\n",
    "\n",
    "\n",
    "cv2.imwrite('lightMap.png', lightMap+127)\n",
    "cv2.imwrite('shadowMap.png', shadowMap+127)\n",
    "\n",
    "\n",
    "intensity = 5\n",
    "result = original + lightMap * (1-(density/255)) * intensity - shadowMap * (1-(density/255)) * (intensity/1.5)# * (mask/255)\n",
    "#reslut = result - shadowMap * (1-(density/255)) * 40 * (mask/255)\n",
    "\n",
    "\n",
    "#cv2.imwrite('effectMap.png', effectMap+127)\n",
    "cv2.imwrite('result.png', result)\n",
    "\n",
    "all127 = np.clip(original, 127, 127)\n",
    "all127 = all127 + lightMap* (1-(density/255))\n",
    "all127 = all127 - shadowMap* (1-(density/255))\n",
    "cv2.imwrite('effect.png', all127)\n",
    "\n",
    "\n",
    "## Testing area\n",
    "'''\n",
    "lightMap += cv2.GaussianBlur(lightMap,(101,101),0)*1\n",
    "lightMap += cv2.GaussianBlur(lightMap,(201,201),0)*1\n",
    "lightMap += cv2.GaussianBlur(lightMap,(401,401),0)*1\n",
    "'''\n",
    "#effectMap = lightMap - shadowMap\n",
    "#print(effectMap)\n",
    "#cv2.imwrite('effectMap.png', effectMap+127)\n",
    "#intensity = 1\n",
    "#effectMap = effectMap * (1-(density/255)) * intensity #* (mask/255)\n",
    "#result = original + effectMap\n",
    "\n",
    "\n",
    "\n"
   ]
  },
  {
   "cell_type": "code",
   "execution_count": 39,
   "metadata": {},
   "outputs": [
    {
     "data": {
      "text/plain": [
       "True"
      ]
     },
     "execution_count": 39,
     "metadata": {},
     "output_type": "execute_result"
    }
   ],
   "source": [
    "effectMap = cv2.imread('effectMap.png')\n",
    "color = effectMap + original\n",
    "cv2.imwrite('color.png', color)"
   ]
  },
  {
   "cell_type": "code",
   "execution_count": 41,
   "metadata": {},
   "outputs": [
    {
     "data": {
      "text/plain": [
       "1"
      ]
     },
     "execution_count": 41,
     "metadata": {},
     "output_type": "execute_result"
    }
   ],
   "source": []
  },
  {
   "cell_type": "code",
   "execution_count": null,
   "metadata": {},
   "outputs": [],
   "source": []
  }
 ],
 "metadata": {
  "kernelspec": {
   "display_name": "Python 3",
   "language": "python",
   "name": "python3"
  },
  "language_info": {
   "codemirror_mode": {
    "name": "ipython",
    "version": 3
   },
   "file_extension": ".py",
   "mimetype": "text/x-python",
   "name": "python",
   "nbconvert_exporter": "python",
   "pygments_lexer": "ipython3",
   "version": "3.8.5"
  }
 },
 "nbformat": 4,
 "nbformat_minor": 4
}
