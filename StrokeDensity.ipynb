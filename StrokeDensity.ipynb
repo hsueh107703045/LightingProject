{
 "cells": [
  {
   "cell_type": "code",
   "execution_count": 1,
   "metadata": {},
   "outputs": [
    {
     "name": "stdout",
     "output_type": "stream",
     "text": [
      "img.shape: (778, 650, 3)\n",
      "palette size: (336, 3)\n"
     ]
    },
    {
     "data": {
      "text/plain": [
       "\"\\n# print palette colors to 'out', each color occupy n lines, n = 'lines'\\nlines = height//palette.shape[0]\\nfor ct in range(palette.shape[0]):\\n    for x in range(width):\\n        for i in range(lines):\\n            out[ct*lines+i][x] = palette[ct]\\n\\ncv2.imwrite('palette1.png',out)\\nshow(out)\\n\\n\""
      ]
     },
     "execution_count": 1,
     "metadata": {},
     "output_type": "execute_result"
    }
   ],
   "source": [
    "import cv2\n",
    "import scipy\n",
    "import numpy as np\n",
    "import trimesh\n",
    "from scipy.spatial import ConvexHull\n",
    "\n",
    "\n",
    "source = 'hat'\n",
    "\n",
    "img = cv2.imread('./images/'+source+'.png')\n",
    "out = cv2.imread('./images/'+source+'.png')\n",
    "\n",
    "print('img.shape:',img.shape)\n",
    "\n",
    "height = img.shape[0]\n",
    "width = img.shape[1]\n",
    "c = img.shape[2]\n",
    "\n",
    "\n",
    "flattened_img = img.reshape(height*width,3)\n",
    "#print(flattened_img.shape) # (51400, 3)\n",
    "\n",
    "\n",
    "hull = ConvexHull(flattened_img)\n",
    "                  #, shape = (51400,2))\n",
    "    \n",
    "#print(hull.points)\n",
    "\n",
    "#print(len(hull.simplices))\n",
    "\n",
    "palette = np.zeros((len(hull.simplices)*3,3))\n",
    "# (128*3) points: [128*3][3]\n",
    "\n",
    "#print(palette.shape)\n",
    "\n",
    "# 0~128\n",
    "for index in range (len(hull.simplices)):\n",
    "    #print(hull.simplices[index])\n",
    "    #print(flattened_img[(hull.simplices[index][0])])\n",
    "    palette[index] = flattened_img[(hull.simplices[index][0])]\n",
    "    #print(flattened_img[(hull.simplices[index][1])])\n",
    "    palette[len(hull.simplices)*1+index] = flattened_img[(hull.simplices[index][1])]\n",
    "    #print(flattened_img[(hull.simplices[index][2])])\n",
    "    palette[len(hull.simplices)*2+index] = flattened_img[(hull.simplices[index][2])]\n",
    "    \n",
    "#print(palette)   \n",
    "#palette = np.unique(palette, axis=0)\n",
    "\n",
    "print('palette size:',palette.shape)\n",
    "\n",
    "\n",
    "\n",
    "'''\n",
    "# print palette colors to 'out', each color occupy n lines, n = 'lines'\n",
    "lines = height//palette.shape[0]\n",
    "for ct in range(palette.shape[0]):\n",
    "    for x in range(width):\n",
    "        for i in range(lines):\n",
    "            out[ct*lines+i][x] = palette[ct]\n",
    "\n",
    "cv2.imwrite('palette1.png',out)\n",
    "show(out)\n",
    "\n",
    "'''    \n",
    "\n",
    "\n",
    "\n",
    "\n"
   ]
  },
  {
   "cell_type": "code",
   "execution_count": 2,
   "metadata": {},
   "outputs": [
    {
     "name": "stdout",
     "output_type": "stream",
     "text": [
      "Begin ray intersecting ...\n",
      "Intersecting finished.\n"
     ]
    },
    {
     "data": {
      "text/plain": [
       "True"
      ]
     },
     "execution_count": 2,
     "metadata": {},
     "output_type": "execute_result"
    }
   ],
   "source": [
    "# stroke density\n",
    "\n",
    "import trimesh\n",
    "\n",
    "# find barycentre of palette, g\n",
    "#print(palette)\n",
    "\n",
    "g = np.mean(flattened_img, axis=0)#sum(palette) // len(palette)\n",
    "\n",
    "\n",
    "# Estimate the stroke density map.\n",
    "intersector = trimesh.Trimesh(faces=hull.simplices, vertices=hull.points).ray\n",
    "start = np.tile(g[None, :], [height * width, 1])  #construct an array with all elements be the 'center'\n",
    "direction = flattened_img - start  # compute each direction\n",
    "\n",
    "print('Begin ray intersecting ...')  \n",
    "index_tri, index_ray, locations = intersector.intersects_id(start, direction, return_locations=True, multiple_hits=True)\n",
    "    # Find the intersections between the current mesh and an array of rays. \n",
    "    # return 1. Index of triangles hit\n",
    "    #        2. Index of ray that hit triangle\n",
    "    #        3. Position of intersection in space \n",
    "print('Intersecting finished.')\n",
    "\n",
    "hits = np.zeros(shape=(height * width, c), dtype=np.float32)\n",
    "hits_count = np.zeros(shape=(height * width, 1), dtype=np.float32)\n",
    "\n",
    "CI = index_ray.shape[0]\n",
    "    \n",
    "for c in range(CI):\n",
    "    i = index_ray[c]\n",
    "    hits_count[i] += 1\n",
    "    hits[i] += locations[c]\n",
    "    \n",
    "hits = (hits + 1e-10) / (hits_count + 1e-10)\n",
    "hits = hits.reshape((height, width, 3))\n",
    "hits_count = hits_count.reshape((height, width))\n",
    "\n",
    "hits[hits_count < 1] = img[hits_count < 1]\n",
    "\n",
    "# |g - hp|\n",
    "intersection_distance = np.sqrt(np.sum(np.square(hits - g), axis=2, keepdims=True))\n",
    "\n",
    "# |cp - hp|\n",
    "pixel_distance = np.sqrt(np.sum(np.square(img - g), axis=2, keepdims=True))\n",
    "\n",
    "stroke_density = np.abs(pixel_distance) / np.abs(intersection_distance)   #(1.0 - np.abs(1.0 - pixel_distance / intersection_distance))\n",
    "stroke_density = (stroke_density * 1.2).clip(0, 1)\n",
    "stroke_density *= 255\n",
    "\n",
    "cv2.imwrite('stroke_density_'+source+'.png', stroke_density.clip(0, 255).astype(np.uint8))\n",
    "\n",
    "\n",
    "\n",
    "\n",
    "\n"
   ]
  },
  {
   "cell_type": "code",
   "execution_count": 1,
   "metadata": {},
   "outputs": [],
   "source": [
    "def show(img):\n",
    "    cv2.imshow('My Image',img)\n",
    "\n",
    "    cv2.waitKey(0)\n",
    "    cv2.destroyAllWindows()\n",
    "    cv2.waitKey(1)"
   ]
  },
  {
   "cell_type": "code",
   "execution_count": null,
   "metadata": {},
   "outputs": [],
   "source": []
  },
  {
   "cell_type": "code",
   "execution_count": null,
   "metadata": {},
   "outputs": [],
   "source": []
  }
 ],
 "metadata": {
  "kernelspec": {
   "display_name": "Python 3",
   "language": "python",
   "name": "python3"
  },
  "language_info": {
   "codemirror_mode": {
    "name": "ipython",
    "version": 3
   },
   "file_extension": ".py",
   "mimetype": "text/x-python",
   "name": "python",
   "nbconvert_exporter": "python",
   "pygments_lexer": "ipython3",
   "version": "3.8.5"
  }
 },
 "nbformat": 4,
 "nbformat_minor": 4
}
