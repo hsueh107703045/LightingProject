{
 "cells": [
  {
   "cell_type": "code",
   "execution_count": 4,
   "metadata": {},
   "outputs": [
    {
     "name": "stdout",
     "output_type": "stream",
     "text": [
      "151 36\n",
      "166 26\n",
      "207 17\n"
     ]
    },
    {
     "data": {
      "text/plain": [
       "True"
      ]
     },
     "execution_count": 4,
     "metadata": {},
     "output_type": "execute_result"
    }
   ],
   "source": [
    "import cv2\n",
    "import numpy as np\n",
    "\n",
    "\n",
    "source = './images/two.png'\n",
    "\n",
    "img = cv2.imread(source)\n",
    "#kernelSize = img.shape[0]//10 + 1\n",
    "img = cv2.GaussianBlur(img,(201,201),0)\n",
    "\n",
    "'''\n",
    "img_blur[:,:,0] = cv2.equalizeHist(img_blur[:,:,0]) # B\n",
    "img_blur[:,:,1] = cv2.equalizeHist(img_blur[:,:,1]) # G\n",
    "img_blur[:,:,2] = cv2.equalizeHist(img_blur[:,:,2]) # R\n",
    "'''\n",
    "#cv2.normalize(img, img_norm,0,255,cv2.NORM_MINMAX)\n",
    "\n",
    "Normalize(img,0) #B\n",
    "Normalize(img,1) #G\n",
    "Normalize(img,2) #R\n",
    "\n",
    "img = cv2.GaussianBlur(img,(11,11),0)\n",
    "\n",
    "\n",
    "cv2.imwrite('normalize.png',img)\n"
   ]
  },
  {
   "cell_type": "code",
   "execution_count": 2,
   "metadata": {},
   "outputs": [],
   "source": [
    "def show(img):\n",
    "    cv2.imshow('My Image',img)\n",
    "\n",
    "    cv2.waitKey(0)\n",
    "    cv2.destroyAllWindows()\n",
    "    cv2.waitKey(1)"
   ]
  },
  {
   "cell_type": "code",
   "execution_count": 2,
   "metadata": {},
   "outputs": [],
   "source": [
    "def Normalize(img, i):\n",
    "\n",
    "    height = img.shape[0]\n",
    "    width = img.shape[1]\n",
    "    \n",
    "    # Find Max/min\n",
    "    maxValue = np.amax(img[:,:,i])#0\n",
    "    minValue = np.amin(img[:,:,i])#255\n",
    "    \n",
    "    print(maxValue, minValue)\n",
    "    '''\n",
    "    for y in range (height):\n",
    "        for x in range (width):\n",
    "            if img[y,x,i] > maxValue:\n",
    "                maxValue = img[y,x,i]\n",
    "            if img[y,x,i] < minValue:\n",
    "                minValue = img[y,x,i]\n",
    "    '''\n",
    "    \n",
    "    \n",
    "    # calculate each pixel\n",
    "    value_range = maxValue-minValue\n",
    "    # print(value_range)\n",
    "    value = 0.000000001\n",
    "    for y in range (height):\n",
    "        for x in range (width):\n",
    "            value = (img[y,x,i]-minValue)/value_range\n",
    "            img[y,x,i] = value * 255\n"
   ]
  },
  {
   "cell_type": "code",
   "execution_count": null,
   "metadata": {},
   "outputs": [],
   "source": []
  }
 ],
 "metadata": {
  "kernelspec": {
   "display_name": "Python 3",
   "language": "python",
   "name": "python3"
  },
  "language_info": {
   "codemirror_mode": {
    "name": "ipython",
    "version": 3
   },
   "file_extension": ".py",
   "mimetype": "text/x-python",
   "name": "python",
   "nbconvert_exporter": "python",
   "pygments_lexer": "ipython3",
   "version": "3.8.5"
  }
 },
 "nbformat": 4,
 "nbformat_minor": 4
}
