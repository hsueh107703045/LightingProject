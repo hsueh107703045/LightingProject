{
 "cells": [
  {
   "cell_type": "code",
   "execution_count": 32,
   "metadata": {},
   "outputs": [
    {
     "name": "stdout",
     "output_type": "stream",
     "text": [
      "[[0.25231807 0.84769364 0.08628224]\n",
      " [0.62421814 0.96701028 0.17758544]\n",
      " [0.90364235 0.86505254 0.87943931]\n",
      " [0.40129588 0.84201858 0.15611493]]\n",
      "<scipy.spatial.qhull.ConvexHull object at 0x7f853d82a940>\n"
     ]
    }
   ],
   "source": [
    "import numpy as np\n",
    "from scipy.spatial import ConvexHull#, convex_hull_plot_2d\n",
    "\n",
    "\n",
    "rng = np.random.default_rng()\n",
    "\n",
    "points = rng.random((15, 3))   # 15 random points in 3-D\n",
    "print(points)\n",
    "\n",
    "hull = ConvexHull(points)\n",
    "print(hull)"
   ]
  },
  {
   "cell_type": "code",
   "execution_count": 34,
   "metadata": {},
   "outputs": [
    {
     "name": "stdout",
     "output_type": "stream",
     "text": [
      "[[1 2 0]\n",
      " [3 2 0]\n",
      " [3 1 0]\n",
      " [3 1 2]]\n"
     ]
    },
    {
     "data": {
      "image/png": "[encoded data removed]",
      "text/plain": [
       "<Figure size 432x288 with 1 Axes>"
      ]
     },
     "metadata": {
      "needs_background": "light"
     },
     "output_type": "display_data"
    }
   ],
   "source": [
    "import matplotlib.pyplot as plt\n",
    "plt.plot(points[:,0], points[:,1], 'o')\n",
    "for simplex in hull.simplices:\n",
    "    plt.plot(points[simplex, 0], points[simplex, 1], 'k-')\n",
    "\n",
    "print(hull.simplices)"
   ]
  },
  {
   "cell_type": "code",
   "execution_count": 2,
   "metadata": {},
   "outputs": [
    {
     "name": "stdout",
     "output_type": "stream",
     "text": [
      "35.626341152936895 58.998968427159916 79.95808112297475\n"
     ]
    },
    {
     "data": {
      "text/plain": [
       "True"
      ]
     },
     "execution_count": 2,
     "metadata": {},
     "output_type": "execute_result"
    }
   ],
   "source": [
    "# calculate distance from mean\n",
    "\n",
    "import cv2\n",
    "import numpy as np\n",
    "import math\n",
    "\n",
    "source = './images/apple.png'\n",
    "\n",
    "img = cv2.imread(source)\n",
    "gray = cv2.imread(source, 0)\n",
    "diff = cv2.imread(source)\n",
    "\n",
    "\n",
    "cv2.imwrite('gray.png', gray)\n",
    "\n",
    "height = img.shape[0]\n",
    "width = img.shape[1]\n",
    "\n",
    "\n",
    "value_B = 0\n",
    "value_G = 0\n",
    "value_R = 0\n",
    "\n",
    "\n",
    "for y in range(height):\n",
    "    for x in range(width):\n",
    "        \n",
    "        value_B += img[y,x,0]\n",
    "        value_G += img[y,x,1]\n",
    "        value_R += img[y,x,2]\n",
    "     \n",
    "        #diff[y,x,1] = 0\n",
    "\n",
    "\n",
    "value_B = value_B/(height*width)\n",
    "value_G = value_G/(height*width)\n",
    "value_R = value_R/(height*width)\n",
    "\n",
    "\n",
    "print(value_B, value_G, value_R)\n",
    "\n",
    "for y in range(height):\n",
    "    for x in range(width):\n",
    "        \n",
    "        gray[y,x] = math.sqrt(pow((value_B - img[y,x,0]), 2) + pow((value_G - img[y,x,1]), 2) + pow((value_R - img[y,x,2]), 2))\n",
    "        \n",
    "        #diff[y,x,0] = gray[y,x]\n",
    "        #diff[y,x,2] = 255 - gray[y,x]\n",
    "\n",
    "cv2.imwrite('DistanceFromMean.png', gray)\n",
    "#cv2.imwrite('diff.png', diff)\n",
    "\n"
   ]
  },
  {
   "cell_type": "code",
   "execution_count": 3,
   "metadata": {},
   "outputs": [
    {
     "data": {
      "text/plain": [
       "True"
      ]
     },
     "execution_count": 3,
     "metadata": {},
     "output_type": "execute_result"
    }
   ],
   "source": [
    "# Generating mask\n",
    "\n",
    "import cv2\n",
    "\n",
    "mask = cv2.imread('./images/cheat_mask.png')\n",
    "\n",
    "height = mask.shape[0]\n",
    "width = mask.shape[1]\n",
    "\n",
    "for y in range(height):\n",
    "    for x in range(width):\n",
    "        if(y==0 or x==0 or y==height-1 or x==width-1):\n",
    "            mask[y,x,0] = 120\n",
    "            mask[y,x,1] = 120\n",
    "            mask[y,x,2] = 120\n",
    "        #else:\n",
    "         #   mask[y,x,0] = 255\n",
    "          #  mask[y,x,1] = 255\n",
    "           # mask[y,x,2] = 255\n",
    "            \n",
    "            \n",
    "cv2.imwrite('./mask.png', mask)\n",
    "            \n"
   ]
  },
  {
   "cell_type": "code",
   "execution_count": 6,
   "metadata": {},
   "outputs": [
    {
     "name": "stdout",
     "output_type": "stream",
     "text": [
      "sin: 0.7071067811865475\n",
      "cos: 0.7071067811865476\n"
     ]
    }
   ],
   "source": [
    "import math\n",
    "angle = 45\n",
    "angle = (angle/360) * math.pi * 2\n",
    "\n",
    "print('sin:', math.sin(angle))\n",
    "print('cos:', math.cos(angle))"
   ]
  },
  {
   "cell_type": "code",
   "execution_count": null,
   "metadata": {
    "jupyter": {
     "source_hidden": true
    }
   },
   "outputs": [],
   "source": [
    "'''\n",
    "lightMap[2,2,2] = -1\n",
    "print(\"if it's -1, error!: \", lightMap[2,2,2])\n",
    "\n",
    "\n",
    "light_angle += 180\n",
    "light_direction = (light_angle/360) * 2*(math.pi)  # 0 ~ 2PI\n",
    "\n",
    "if light_angle%360 < 90:\n",
    "    sign_1 = 1\n",
    "    sign_2 = 1\n",
    "elif light_angle%360 < 180:\n",
    "    sign_1 = -1\n",
    "    sign_2 = 1\n",
    "elif light_angle%360 < 270:\n",
    "    sign_1 = -1\n",
    "    sign_2 = -1\n",
    "else:\n",
    "    sign_1 = 1\n",
    "    sign_2 = -1\n",
    "\n",
    "print(sign_1, sign_2)\n",
    "\n",
    "shadowMap = min(0, sign_1) * conv_right * round(math.cos(light_direction)) + min(0, sign_2) * conv_top * round(math.sin(light_direction)) + min(0, sign_1) * (-1) * conv_left * round(math.sin(light_direction)) + min(0, sign_2) * (-1) * conv_down * round(math.cos(light_direction))\n",
    "\n",
    "'''"
   ]
  },
  {
   "cell_type": "code",
   "execution_count": null,
   "metadata": {
    "jupyter": {
     "source_hidden": true
    }
   },
   "outputs": [],
   "source": [
    "# combine 4 conv_out to get coarse light map\n",
    "conv_right = cv2.imread('conv_right.png')\n",
    "conv_top = cv2.imread('conv_top.png')\n",
    "conv_left = cv2.imread('conv_left.png')\n",
    "conv_down = cv2.imread('conv_down.png')\n",
    "\n",
    "density = cv2.imread('./images/stroke_density_'+source+'.png')\n",
    "density = cv2.GaussianBlur(density, (3, 3),0)\n",
    "\n",
    "original = cv2.imread('./images/'+source+'.png')\n",
    "#original = np.clip(original, 50, 205)\n",
    "mask = cv2.imread('./images/grape_mask.png')\n",
    "\n",
    "# light\n",
    "light_angle = 45# start from right side, clockwise\n",
    "light_hue = 120   # 0~360\n",
    "light_saturation = 255\n",
    "\n",
    "\n",
    "light_direction = (light_angle/360) * 2*(math.pi)  # 0 ~ 2PI\n",
    "#effectMap = conv_top * round((math.sin(light_direction))) + conv_right * round((math.cos(light_direction))) + (-1)*conv_down * (math.sin(light_direction)) + (-1)*conv_left * (math.cos(light_direction))\n",
    "#lightMap = np.zeros_like(original)  # uint8\n",
    "#lightMap = np.clip(effectMap.astype(np.uint8), 0, 255)\n",
    "#shadowMap = np.clip(effectMap, -255, 0)\n",
    "\n",
    "if light_angle%360 < 90:\n",
    "    lightMap = conv_right * round(math.cos(light_direction)) + conv_top * round(math.sin(light_direction))\n",
    "    shadowMap = conv_left * round(math.cos(light_direction)) + conv_down * round(math.sin(light_direction))\n",
    "    \n",
    "elif light_angle%360 < 180:\n",
    "    lightMap = conv_top * round(math.cos(light_direction-math.pi/2)) + conv_left * round(math.sin(light_direction-math.pi/2))\n",
    "    shadowMap = conv_down * round(math.cos(light_direction-math.pi/2)) + conv_right * round(math.sin(light_direction-math.pi/2))\n",
    "    \n",
    "elif light_angle%360 < 270:\n",
    "    lightMap = conv_left * round(math.cos(light_direction-math.pi)) + conv_down * round(math.sin(light_direction-math.pi))\n",
    "    shadowMap = conv_right * round(math.cos(light_direction-math.pi)) + conv_top * round(math.sin(light_direction-math.pi))\n",
    "\n",
    "else:\n",
    "    lightMap = conv_down * round(math.cos(light_direction-math.pi/2*3)) + conv_right * round(math.sin(light_direction-math.pi/2*3))\n",
    "    shadowMap = conv_top * round(math.cos(light_direction-math.pi/2*3)) + conv_left * round(math.sin(light_direction-math.pi/2*3))\n",
    "\n",
    "    \n",
    "#lightMap = max(0, sign_1) * conv_right * round(math.cos(light_direction)) + max(0, sign_2) * conv_top * round(math.sin(light_direction)) + max(0, sign_1) * (-1) * conv_left * round(math.sin(light_direction)) + max(0, sign_2) * (-1) * conv_down * round(math.cos(light_direction))\n",
    "\n",
    "\n",
    "hsv_lightMap = cv2.cvtColor(lightMap, cv2.COLOR_BGR2HSV)\n",
    "hsv_lightMap[:,:,0] = light_hue // 2  # HSV in opencv, hue range is [0,179]\n",
    "hsv_lightMap[:,:,1] = np.clip(hsv_lightMap[:,:,1], light_saturation, a_max=255)\n",
    "#hsv_lightMap[:,:,2] = 0\n",
    "\n",
    "lightMap = cv2.cvtColor(hsv_lightMap, cv2.COLOR_HSV2BGR)\n",
    "\n",
    "cv2.imwrite('lightMap.png', lightMap+127)\n",
    "cv2.imwrite('shadowMap.png', shadowMap+127)\n",
    "\n",
    "result = original + lightMap * (1-(density/255)) * 4 * (mask/255)- shadowMap * (1-(density/255)) * 2 * (mask/255)\n",
    "#reslut = result - shadowMap * (1-(density/255)) * 40 * (mask/255)\n",
    "\n",
    "\n",
    "cv2.imwrite('effectMap.png', effectMap+127)\n",
    "cv2.imwrite('result.png', result)\n",
    "\n",
    "\n",
    "## Testing area\n",
    "'''\n",
    "lightMap += cv2.GaussianBlur(lightMap,(101,101),0)*1\n",
    "lightMap += cv2.GaussianBlur(lightMap,(201,201),0)*1\n",
    "lightMap += cv2.GaussianBlur(lightMap,(401,401),0)*1\n",
    "'''\n",
    "#effectMap = lightMap - shadowMap\n",
    "#print(effectMap)\n",
    "#cv2.imwrite('effectMap.png', effectMap+127)\n",
    "#intensity = 1\n",
    "#effectMap = effectMap * (1-(density/255)) * intensity #* (mask/255)\n",
    "#result = original + effectMap\n",
    "\n",
    "\n",
    "\n",
    "\n"
   ]
  },
  {
   "cell_type": "code",
   "execution_count": null,
   "metadata": {
    "jupyter": {
     "source_hidden": true
    }
   },
   "outputs": [],
   "source": [
    "# combine 4 conv_out to get coarse light map\n",
    "conv_right = cv2.imread('conv_right.png')\n",
    "conv_top = cv2.imread('conv_top.png')\n",
    "conv_left = cv2.imread('conv_left.png')\n",
    "conv_down = cv2.imread('conv_down.png')\n",
    "\n",
    "#density = cv2.imread('./images/stroke_density_'+source+'.png')\n",
    "density = cv2.imread('./images/'+source+'.png')\n",
    "density = cv2.GaussianBlur(density, (3, 3),0)\n",
    "\n",
    "original = cv2.imread('./images/'+source+'.png')\n",
    "mask = cv2.imread('./images/blind_mask.png')\n",
    "\n",
    "# light\n",
    "light_angle = 145# start from right side, clockwise\n",
    "light_hue = 44   # 0~360\n",
    "light_saturation = 200\n",
    "\n",
    "\n",
    "light_direction = (light_angle/360) * 2*(math.pi)  # 0 ~ 2PI\n",
    "#effectMap = conv_top * round((math.sin(light_direction))) + conv_right * round((math.cos(light_direction))) + (-1)*conv_down * (math.sin(light_direction)) + (-1)*conv_left * (math.cos(light_direction))\n",
    "#lightMap = np.zeros_like(original)  # uint8\n",
    "#lightMap = np.clip(effectMap.astype(np.uint8), 0, 255)\n",
    "#shadowMap = np.clip(effectMap, -255, 0)\n",
    "\n",
    "if light_angle%360 < 90:\n",
    "    lightMap = conv_right * round(math.cos(light_direction)) + conv_top * round(math.sin(light_direction))\n",
    "    shadowMap = conv_left * round(math.cos(light_direction)) + conv_down * round(math.sin(light_direction))\n",
    "    \n",
    "elif light_angle%360 < 180:\n",
    "    lightMap = conv_top * round(math.cos(light_direction-math.pi/2)) + conv_left * round(math.sin(light_direction-math.pi/2))\n",
    "    shadowMap = conv_down * round(math.cos(light_direction-math.pi/2)) + conv_right * round(math.sin(light_direction-math.pi/2))\n",
    "    \n",
    "elif light_angle%360 < 270:\n",
    "    lightMap = conv_left * round(math.cos(light_direction-math.pi)) + conv_down * round(math.sin(light_direction-math.pi))\n",
    "    shadowMap = conv_right * round(math.cos(light_direction-math.pi)) + conv_top * round(math.sin(light_direction-math.pi))\n",
    "\n",
    "else:\n",
    "    lightMap = conv_down * round(math.cos(light_direction-math.pi/2*3)) + conv_right * round(math.sin(light_direction-math.pi/2*3))\n",
    "    shadowMap = conv_top * round(math.cos(light_direction-math.pi/2*3)) + conv_left * round(math.sin(light_direction-math.pi/2*3))\n",
    "\n",
    "    \n",
    "#lightMap = max(0, sign_1) * conv_right * round(math.cos(light_direction)) + max(0, sign_2) * conv_top * round(math.sin(light_direction)) + max(0, sign_1) * (-1) * conv_left * round(math.sin(light_direction)) + max(0, sign_2) * (-1) * conv_down * round(math.cos(light_direction))\n",
    "\n",
    "\n",
    "hsv_lightMap = cv2.cvtColor(lightMap, cv2.COLOR_BGR2HSV)\n",
    "hsv_lightMap[:,:,0] = light_hue // 2  # HSV in opencv, hue range is [0,179]\n",
    "hsv_lightMap[:,:,1] = np.clip(hsv_lightMap[:,:,1], light_saturation, a_max=255)\n",
    "#hsv_lightMap[:,:,2] = 0\n",
    "\n",
    "lightMap = cv2.cvtColor(hsv_lightMap, cv2.COLOR_HSV2BGR)\n",
    "\n",
    "cv2.imwrite('lightMap.png', lightMap+127)\n",
    "cv2.imwrite('shadowMap.png', shadowMap+127)\n",
    "\n",
    "\n",
    "intensity = 6\n",
    "result = original + lightMap * (1-(density/255)) * intensity * (mask/255) - shadowMap * (1-(density/255)) * (intensity/2) * (mask/255)\n",
    "#reslut = result - shadowMap * (1-(density/255)) * 40 * (mask/255)\n",
    "\n",
    "\n",
    "#cv2.imwrite('effectMap.png', effectMap+127)\n",
    "cv2.imwrite('result.png', result)\n",
    "\n",
    "all127 = np.clip(original, 127, 127)\n",
    "all127 = all127 + lightMap\n",
    "all127 = all127 - shadowMap\n",
    "cv2.imwrite('effect.png', all127)\n",
    "\n",
    "\n",
    "## Testing area\n",
    "'''\n",
    "lightMap += cv2.GaussianBlur(lightMap,(101,101),0)*1\n",
    "lightMap += cv2.GaussianBlur(lightMap,(201,201),0)*1\n",
    "lightMap += cv2.GaussianBlur(lightMap,(401,401),0)*1\n",
    "'''\n",
    "#effectMap = lightMap - shadowMap\n",
    "#print(effectMap)\n",
    "#cv2.imwrite('effectMap.png', effectMap+127)\n",
    "#intensity = 1\n",
    "#effectMap = effectMap * (1-(density/255)) * intensity #* (mask/255)\n",
    "#result = original + effectMap\n",
    "\n",
    "\n",
    "\n",
    "\n"
   ]
  }
 ],
 "metadata": {
  "kernelspec": {
   "display_name": "Python 3",
   "language": "python",
   "name": "python3"
  },
  "language_info": {
   "codemirror_mode": {
    "name": "ipython",
    "version": 3
   },
   "file_extension": ".py",
   "mimetype": "text/x-python",
   "name": "python",
   "nbconvert_exporter": "python",
   "pygments_lexer": "ipython3",
   "version": "3.8.5"
  }
 },
 "nbformat": 4,
 "nbformat_minor": 4
}
